{
 "cells": [
  {
   "cell_type": "code",
   "execution_count": null,
   "id": "initial_id",
   "metadata": {
    "collapsed": true
   },
   "outputs": [],
   "source": [
    "!pip install sparqlwrapper\n",
    "!pip install pandas"
   ]
  },
  {
   "cell_type": "code",
   "outputs": [],
   "source": [
    "import os\n",
    "try:\n",
    "    os.mkdir('images')\n",
    "except:\n",
    "    pass"
   ],
   "metadata": {
    "collapsed": false,
    "ExecuteTime": {
     "end_time": "2024-03-05T10:32:29.983374Z",
     "start_time": "2024-03-05T10:32:29.977448Z"
    }
   },
   "id": "7cd9571ed6434ec9",
   "execution_count": 2
  },
  {
   "cell_type": "code",
   "outputs": [
    {
     "data": {
      "text/plain": "                                               image\n0  http://commons.wikimedia.org/wiki/Special:File...\n1  http://commons.wikimedia.org/wiki/Special:File...\n2  http://commons.wikimedia.org/wiki/Special:File...\n3  http://commons.wikimedia.org/wiki/Special:File...\n4  http://commons.wikimedia.org/wiki/Special:File...\n5  http://commons.wikimedia.org/wiki/Special:File...\n6  http://commons.wikimedia.org/wiki/Special:File...\n7  http://commons.wikimedia.org/wiki/Special:File...\n8  http://commons.wikimedia.org/wiki/Special:File...\n9  http://commons.wikimedia.org/wiki/Special:File...",
      "text/html": "<div>\n<style scoped>\n    .dataframe tbody tr th:only-of-type {\n        vertical-align: middle;\n    }\n\n    .dataframe tbody tr th {\n        vertical-align: top;\n    }\n\n    .dataframe thead th {\n        text-align: right;\n    }\n</style>\n<table border=\"1\" class=\"dataframe\">\n  <thead>\n    <tr style=\"text-align: right;\">\n      <th></th>\n      <th>image</th>\n    </tr>\n  </thead>\n  <tbody>\n    <tr>\n      <th>0</th>\n      <td>http://commons.wikimedia.org/wiki/Special:File...</td>\n    </tr>\n    <tr>\n      <th>1</th>\n      <td>http://commons.wikimedia.org/wiki/Special:File...</td>\n    </tr>\n    <tr>\n      <th>2</th>\n      <td>http://commons.wikimedia.org/wiki/Special:File...</td>\n    </tr>\n    <tr>\n      <th>3</th>\n      <td>http://commons.wikimedia.org/wiki/Special:File...</td>\n    </tr>\n    <tr>\n      <th>4</th>\n      <td>http://commons.wikimedia.org/wiki/Special:File...</td>\n    </tr>\n    <tr>\n      <th>5</th>\n      <td>http://commons.wikimedia.org/wiki/Special:File...</td>\n    </tr>\n    <tr>\n      <th>6</th>\n      <td>http://commons.wikimedia.org/wiki/Special:File...</td>\n    </tr>\n    <tr>\n      <th>7</th>\n      <td>http://commons.wikimedia.org/wiki/Special:File...</td>\n    </tr>\n    <tr>\n      <th>8</th>\n      <td>http://commons.wikimedia.org/wiki/Special:File...</td>\n    </tr>\n    <tr>\n      <th>9</th>\n      <td>http://commons.wikimedia.org/wiki/Special:File...</td>\n    </tr>\n  </tbody>\n</table>\n</div>"
     },
     "execution_count": 6,
     "metadata": {},
     "output_type": "execute_result"
    }
   ],
   "source": [
    "import sys\n",
    "from SPARQLWrapper import SPARQLWrapper, JSON\n",
    "import requests\n",
    "import shutil\n",
    "import os\n",
    "import pandas as pd\n",
    "\n",
    "endpoint_url = \"https://query.wikidata.org/sparql\"\n",
    "\n",
    "# Get cities\n",
    "query = \"\"\"SELECT ?image WHERE {\n",
    "  ?item wdt:P31 wd:Q8502 . # Check if item is a mountain\n",
    "  ?item wdt:P18 ?image .\n",
    "}\n",
    "LIMIT 150\n",
    "\"\"\"\n",
    "\n",
    "\n",
    "def get_results(endpoint_url, query):\n",
    "    user_agent = \"WDQS-example Python/%s.%s\" % (\n",
    "        sys.version_info[0],\n",
    "        sys.version_info[1],\n",
    "    )\n",
    "    sparql = SPARQLWrapper(endpoint_url, agent=user_agent)\n",
    "    sparql.setQuery(query)\n",
    "    sparql.setReturnFormat(JSON)\n",
    "    return sparql.query().convert()\n",
    "\n",
    "def download_image(url):\n",
    "\n",
    "    headers = {\"User-Agent\": \"Mozilla/5.0\"}\n",
    "    request = requests.get(url, allow_redirects=True, headers=headers, stream=True)\n",
    "    if request.status_code == 200:\n",
    "        nom = os.path.basename(url)[-35:]\n",
    "        chemin = \"images/\"+nom\n",
    "        with open(chemin, \"wb\") as image:\n",
    "            request.raw.decode_content = True\n",
    "            shutil.copyfileobj(request.raw, image)\n",
    "    return request.status_code\n",
    "\n",
    "array = []\n",
    "results = get_results(endpoint_url, query)\n",
    "\n",
    "for result in results[\"results\"][\"bindings\"]:\n",
    "    array.append(\n",
    "        (\n",
    "            result[\"image\"][\"value\"],\n",
    "        )\n",
    "    )\n",
    "    \n",
    "dataframe = pd.DataFrame(array, columns=[\"image\"])\n",
    "dataframe = dataframe.astype(\n",
    "    dtype={\"image\": \"<U200\"}\n",
    ")\n",
    "dataframe.image.apply(download_image)\n",
    "\n",
    "dataframe"
   ],
   "metadata": {
    "collapsed": false,
    "ExecuteTime": {
     "end_time": "2024-03-06T07:36:40.923634Z",
     "start_time": "2024-03-06T07:36:22.697132Z"
    }
   },
   "id": "dacb92f623e80c97",
   "execution_count": 6
  }
 ],
 "metadata": {
  "kernelspec": {
   "display_name": "Python 3",
   "language": "python",
   "name": "python3"
  },
  "language_info": {
   "codemirror_mode": {
    "name": "ipython",
    "version": 2
   },
   "file_extension": ".py",
   "mimetype": "text/x-python",
   "name": "python",
   "nbconvert_exporter": "python",
   "pygments_lexer": "ipython2",
   "version": "2.7.6"
  }
 },
 "nbformat": 4,
 "nbformat_minor": 5
}
